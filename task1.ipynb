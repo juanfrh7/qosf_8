{
 "cells": [
  {
   "cell_type": "markdown",
   "metadata": {},
   "source": [
    "# TASK 1 - Find the prime numbers\n",
    "\n",
    "Given a positive integer and a list of prime numbers, the objective is to find two prime numbers from the list that sum up to the given positive number. To accomplish this task, it's essential to consider the appropriate number of qubits and explain the validity of the proposal for all types of numbers.\n",
    "\n",
    "There are multiple ways to approach this problem. One method involves systematically adding up various combinations of prime numbers from the list until the desired sum is achieved. To execute this approach, we would require three quantum registers: two to store the prime numbers being added together, and a third to store the final result. A quantum modulo addition operation can be employed to add the numbers in the first two registers. Subsequently, we measure the third register and perform a classical check to verify if it matches the desired output.\n",
    "\n",
    "However, this approach has a drawback. Reinitializing the first two registers for each modulo addition operation incurs a time cost due to the classical-to-quantum overhead.\n",
    "\n",
    "To address this issue, an alternative approach is to create a classical list of all possible combinations of prime numbers whose summation equals the given positive integer. Afterward, Grover's algorithm is utilized to verify whether the prime numbers required are present in this list. The number of qubits required will depend on the size of this list, which is determined by the number of primes you're considering."
   ]
  },
  {
   "cell_type": "markdown",
   "metadata": {},
   "source": [
    "## Imports"
   ]
  },
  {
   "cell_type": "code",
   "execution_count": 54,
   "metadata": {},
   "outputs": [],
   "source": [
    "import numpy as np\n",
    "import qiskit\n",
    "from qiskit import *\n",
    "\n",
    "import math"
   ]
  },
  {
   "cell_type": "markdown",
   "metadata": {},
   "source": [
    "## Decomposition\n",
    "\n",
    "In this section, we will create a function that takes as input a positive integer, and returns a list with combinations of all prime numbers that add to that integer."
   ]
  },
  {
   "cell_type": "code",
   "execution_count": 167,
   "metadata": {},
   "outputs": [
    {
     "name": "stdout",
     "output_type": "stream",
     "text": [
      "Prime combinations that sum up to 8:\n",
      "3 + 5\n",
      "5 + 3\n"
     ]
    }
   ],
   "source": [
    "# Function to check if a number is prime\n",
    "def is_prime(num):\n",
    "    if num <= 1:\n",
    "        return False\n",
    "    if num <= 3:\n",
    "        return True\n",
    "    if num % 2 == 0 or num % 3 == 0:\n",
    "        return False\n",
    "    i = 5\n",
    "    while i * i <= num:\n",
    "        if num % i == 0 or num % (i + 2) == 0:\n",
    "            return False\n",
    "        i += 6\n",
    "    return True\n",
    "\n",
    "# Function to decompose a number into two prime numbers\n",
    "def decompose_into_two_primes(n):\n",
    "    prime_combinations = []\n",
    "\n",
    "    for i in range(2, n):\n",
    "        j = n - i\n",
    "        if is_prime(i) and is_prime(j):\n",
    "            prime_combinations.append([i, j])\n",
    "\n",
    "    return prime_combinations\n",
    "\n",
    "# Example usage:\n",
    "number_to_decompose = 8\n",
    "combinations = decompose_into_two_primes(number_to_decompose)\n",
    "\n",
    "# Print the prime combinations that sum up to the given number\n",
    "print(f\"Prime combinations that sum up to {number_to_decompose}:\")\n",
    "for combo in combinations:\n",
    "    print(f\"{combo[0]} + {combo[1]}\")\n"
   ]
  },
  {
   "cell_type": "markdown",
   "metadata": {},
   "source": [
    "## Grover's algorithm\n",
    "\n",
    "Grover's algorithm is a quantum algorithm that efficiently searches an unsorted database or performs an unstructured search, providing a quadratic speedup over classical algorithms. It's often used to find a marked item or solve certain types of computational problems faster than classical counterparts."
   ]
  },
  {
   "cell_type": "markdown",
   "metadata": {},
   "source": [
    "1. Construct an oracle that encodes the classical list of prime number combinations into a quantum superposition."
   ]
  },
  {
   "cell_type": "code",
   "execution_count": 183,
   "metadata": {},
   "outputs": [
    {
     "name": "stdout",
     "output_type": "stream",
     "text": [
      "[0.  0.5 0.  0.5 0.  0.5 0.  0.5]\n"
     ]
    }
   ],
   "source": [
    "def calculate_amplitudes(integer_list):\n",
    "    # Initialize an array of amplitudes with zeros\n",
    "    max_value = max(integer_list)\n",
    "    amplitudes = np.zeros(max_value + 1)\n",
    "\n",
    "    # Set amplitudes to 1 for the integers in the list\n",
    "    for i in integer_list:\n",
    "        amplitudes[i] = 1\n",
    "\n",
    "    # Normalize the amplitudes\n",
    "    amplitudes /= np.linalg.norm(amplitudes)\n",
    "\n",
    "    return amplitudes\n",
    "\n",
    "# Example usage:\n",
    "prime_list = [1, 3, 5, 7]\n",
    "amplitudes = calculate_amplitudes(prime_list)\n",
    "print(amplitudes)"
   ]
  },
  {
   "cell_type": "code",
   "execution_count": 169,
   "metadata": {},
   "outputs": [],
   "source": [
    "def grover_oracle(marked_states):\n",
    "    \"\"\"Build a Grover oracle for multiple marked states\n",
    "\n",
    "    Here we assume all input marked states have the same number of bits\n",
    "\n",
    "    Parameters:\n",
    "        marked_states (str or list): Marked states of oracle\n",
    "\n",
    "    Returns:\n",
    "        QuantumCircuit: Quantum circuit representing Grover oracle\n",
    "    \"\"\"\n",
    "    if not isinstance(marked_states, list):\n",
    "        marked_states = [marked_states]\n",
    "    # Compute the number of qubits in circuit\n",
    "    num_qubits = len(marked_states[0])\n",
    "\n",
    "    qc = QuantumCircuit(num_qubits)\n",
    "    # Mark each target state in the input list\n",
    "    for target in marked_states:\n",
    "        # Flip target bit-string to match Qiskit bit-ordering\n",
    "        rev_target = target[::-1]\n",
    "        # Find the indices of all the '0' elements in bit-string\n",
    "        zero_inds = [ind for ind in range(num_qubits) if rev_target.startswith(\"0\", ind)]\n",
    "        # Add a multi-controlled Z-gate with pre- and post-applied X-gates (open-controls)\n",
    "        # where the target bit-string has a '0' entry\n",
    "        qc.x(zero_inds)\n",
    "        qc.compose(MCMT(ZGate(), num_qubits - 1, 1), inplace=True)\n",
    "        qc.x(zero_inds)\n",
    "    return qc"
   ]
  },
  {
   "cell_type": "markdown",
   "metadata": {},
   "source": [
    "2. Apply Grover iterations to amplify the amplitudes of the correct combinations while suppressing the incorrect ones. The number of Grover iterations required would be approximately proportional to the square root of the number of combinations."
   ]
  },
  {
   "cell_type": "code",
   "execution_count": 170,
   "metadata": {},
   "outputs": [],
   "source": [
    "def grover_search(marked_states, amplitudes):\n",
    "    \"\"\"\n",
    "    Grover Search Algorithm\n",
    "\n",
    "    This function uses Grover's algorithm to search for a marked state among possible states.\n",
    "\n",
    "    Parameters:\n",
    "    marked_states (list): List of states that are marked as the target states.\n",
    "    amplitudes (list): Initial quantum state amplitudes.\n",
    "\n",
    "    Returns:\n",
    "    bool: True if the measured state with the highest probability is one of the marked states, False otherwise.\n",
    "    \"\"\"\n",
    "\n",
    "    # Create the oracle for Grover's algorithm based on marked states\n",
    "    oracle = grover_oracle(marked_states)\n",
    "\n",
    "    # Create the Grover operator\n",
    "    grover_op = GroverOperator(oracle)\n",
    "\n",
    "    # Determine the optimal number of iterations for Grover's algorithm\n",
    "    optimal_num_iterations = math.floor(\n",
    "        math.pi / 4 * math.sqrt(2**grover_op.num_qubits / len(marked_states))\n",
    "    )\n",
    "\n",
    "    # Initialize a quantum circuit\n",
    "    qc = QuantumCircuit(grover_op.num_qubits)\n",
    "\n",
    "    # Initialize the quantum state using given amplitudes\n",
    "    qc.initialize(amplitudes)\n",
    "\n",
    "    # Apply Grover's operator the optimal number of times\n",
    "    qc.compose(grover_op.power(optimal_num_iterations), inplace=True)\n",
    "\n",
    "    # Measure all qubits in the quantum circuit\n",
    "    qc.measure_all()\n",
    "\n",
    "    # Use the Qiskit simulator to execute the quantum circuit\n",
    "    simulator = Aer.get_backend('qasm_simulator')\n",
    "    counts = execute(qc, backend=simulator).result().get_counts(qc)\n",
    "    \n",
    "    # Find the measured state with the highest probability\n",
    "    max_state = max(counts, key=counts.get)\n",
    "    \n",
    "    # Check if the highest probability state is one of the marked states\n",
    "    if max_state in marked_states:\n",
    "        return True\n",
    "\n",
    "    return False"
   ]
  },
  {
   "cell_type": "markdown",
   "metadata": {},
   "source": [
    "3. Create the final function"
   ]
  },
  {
   "cell_type": "code",
   "execution_count": 181,
   "metadata": {},
   "outputs": [],
   "source": [
    "def find_the_primes_numbers(number_1, prime_list):\n",
    "    \"\"\"\"\n",
    "    number_1 : integer value that is the positive number to decompose,\n",
    "    number_2 : integer list that has two prime numbers to add to obtain number_1.\n",
    "    Return the number_a and number_b\n",
    "    \"\"\"\n",
    "\n",
    "     # use a framework that works with quantum circuits, qiskit, cirq, pennylane, etc. \n",
    "\n",
    "      # consider print your quantum circuit,\n",
    "\n",
    "    combinations = decompose_into_two_primes(number_1)\n",
    "    amplitudes = calculate_amplitudes(prime_list)\n",
    "    \n",
    "    for combination in combinations:\n",
    "        bin1 = bin(combination[0])[2:]\n",
    "        bin2 = bin(combination[1])[2:]\n",
    "        max_length = max(len(bin1), len(bin2))\n",
    "\n",
    "        # Pad the shorter binary string with leading zeros\n",
    "        bin1 = bin1.zfill(max_length)\n",
    "        bin2 = bin2.zfill(max_length)\n",
    "\n",
    "        if grover_search(bin1, amplitudes) and grover_search(bin2, amplitudes):\n",
    "            return int(bin1, 2), int(bin2, 2)\n",
    "        else:\n",
    "            continue"
   ]
  },
  {
   "cell_type": "code",
   "execution_count": 186,
   "metadata": {},
   "outputs": [
    {
     "data": {
      "text/plain": [
       "(3, 5)"
      ]
     },
     "execution_count": 186,
     "metadata": {},
     "output_type": "execute_result"
    }
   ],
   "source": [
    "number_to_decompose = 8\n",
    "prime_list = [1,3,5,7]\n",
    "find_the_primes_numbers(number_to_decompose, prime_list)\n"
   ]
  },
  {
   "cell_type": "markdown",
   "metadata": {},
   "source": [
    "This is not working perfectly, I would need to work on the length of the list and number to decompose, but I dont have much time :/. Thank you for the opportunity!"
   ]
  }
 ],
 "metadata": {
  "kernelspec": {
   "display_name": "Python 3",
   "language": "python",
   "name": "python3"
  },
  "language_info": {
   "codemirror_mode": {
    "name": "ipython",
    "version": 3
   },
   "file_extension": ".py",
   "mimetype": "text/x-python",
   "name": "python",
   "nbconvert_exporter": "python",
   "pygments_lexer": "ipython3",
   "version": "3.11.2"
  },
  "orig_nbformat": 4
 },
 "nbformat": 4,
 "nbformat_minor": 2
}
